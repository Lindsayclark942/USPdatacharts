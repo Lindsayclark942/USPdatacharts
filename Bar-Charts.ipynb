{
 "cells": [
  {
   "cell_type": "code",
   "execution_count": 1,
   "metadata": {
    "collapsed": true
   },
   "outputs": [],
   "source": [
    "import numpy as np\n",
    "import matplotlib.pyplot as plt\n",
    "from matplotlib.ticker import MaxNLocator\n",
    "from collections import namedtuple\n",
    "import os"
   ]
  },
  {
   "cell_type": "markdown",
   "metadata": {},
   "source": [
    "## Math Proficiency"
   ]
  },
  {
   "cell_type": "markdown",
   "metadata": {},
   "source": [
    "objects = ('Non-USP', 'USP')\n",
    "y_pos = [0, 0.4]\n",
    "mp = [11, 25]\n",
    "colors = ('r', 'b')\n",
    "width = [0.2, 0.2]"
   ]
  },
  {
   "cell_type": "markdown",
   "metadata": {},
   "source": [
    "plt.bar(y_pos, mp, align='center', alpha=0.7, width=width, color=colors)\n",
    "plt.xticks(y_pos, objects)\n",
    "#plt.yticks(np.arange(0, 50, 5)) #(lowest value, highest value, spacing)\n",
    "plt.ylabel('Math Proficiency (% of Students)')\n",
    "plt.xlabel('Program Participants')\n",
    "plt.title('NYSED Math Proficiency')\n",
    "#plt.subplots_adjust(wspace=1)\n",
    "\n",
    "plt.tight_layout()\n",
    "#plt.show()\n",
    "plt.savefig('MathProficiency.png')"
   ]
  },
  {
   "cell_type": "markdown",
   "metadata": {},
   "source": [
    "## Math Scaled Scores"
   ]
  },
  {
   "cell_type": "markdown",
   "metadata": {},
   "source": [
    "objects = ('Non-USP', 'USP')\n",
    "y_pos = [0, 0.4]\n",
    "mss = [274, 291]\n",
    "colors = ('r', 'b')\n",
    "width = [0.2, 0.2]"
   ]
  },
  {
   "cell_type": "markdown",
   "metadata": {},
   "source": [
    "plt.bar(y_pos, mss, align='center', alpha=0.7, width=width, color=colors)\n",
    "plt.xticks(y_pos, objects)\n",
    "plt.ylabel('Mean Scaled Score')\n",
    "plt.xlabel('Program Participants')\n",
    "plt.title('NYSED Math Scaled Scores')\n",
    "\n",
    "plt.tight_layout()\n",
    "#plt.show()\n",
    "plt.savefig('MathScaledScores.png')"
   ]
  },
  {
   "cell_type": "markdown",
   "metadata": {},
   "source": [
    "## ELA Proficiency"
   ]
  },
  {
   "cell_type": "markdown",
   "metadata": {},
   "source": [
    "objects = ('Non-USP', 'USP')\n",
    "y_pos = [0, 0.4]\n",
    "ep = [16, 32]\n",
    "colors = ('r', 'b')\n",
    "width = [0.2, 0.2]"
   ]
  },
  {
   "cell_type": "markdown",
   "metadata": {},
   "source": [
    "plt.bar(y_pos, ep, align='center', alpha=0.7, width=width, color=colors)\n",
    "plt.xticks(y_pos, objects)\n",
    "plt.ylabel('ELA Proficiency (% of Students)')\n",
    "plt.xlabel('Program Participants')\n",
    "plt.title('NYSED ELA Proficiency')\n",
    "\n",
    "plt.tight_layout()\n",
    "#plt.show()\n",
    "plt.savefig('ELAProficiency.png')"
   ]
  },
  {
   "cell_type": "markdown",
   "metadata": {},
   "source": [
    "## ELA Scaled Scores"
   ]
  },
  {
   "cell_type": "markdown",
   "metadata": {},
   "source": [
    "objects = ('Non-USP', 'USP')\n",
    "y_pos = [0, 0.4]\n",
    "ess = [278, 300]\n",
    "colors = ('r', 'b')\n",
    "width = [0.2, 0.2]"
   ]
  },
  {
   "cell_type": "markdown",
   "metadata": {},
   "source": [
    "plt.bar(y_pos, ess, align='center', alpha=0.7, width=width, color=colors)\n",
    "plt.xticks(y_pos, objects)\n",
    "plt.ylabel('Mean Scaled Scores')\n",
    "plt.xlabel('Program Participants')\n",
    "plt.title('NYSED ELA Scaled Scores')\n",
    "\n",
    "plt.tight_layout()\n",
    "#plt.show()\n",
    "plt.savefig('ELAScaledScores.png')"
   ]
  },
  {
   "cell_type": "markdown",
   "metadata": {},
   "source": [
    "## Failure"
   ]
  },
  {
   "cell_type": "markdown",
   "metadata": {},
   "source": [
    "mobjects = ('Non-USPM', 'USPM')\n",
    "eobjects = ('Non-USPE', 'USPE')\n",
    "my_pos = [0, 0.25]\n",
    "ey_pos = [1, 1.25]\n",
    "mcp = [11, 25]\n",
    "ecp = [16, 32]\n",
    "mcolors = ('r', 'b')\n",
    "ecolors = ('r', 'b')\n",
    "mwidth = [0.2, 0.2]\n",
    "ewidth = [0.2, 0.2]"
   ]
  },
  {
   "cell_type": "markdown",
   "metadata": {},
   "source": [
    "plt.bar(my_pos, mcp, align='center', alpha=0.7, width=mwidth, color=mcolors)\n",
    "plt.bar(ey_pos, ecp, align='center', alpha=0.7, width=ewidth, color=ecolors)\n",
    "plt.xticks(my_pos, mobjects)\n",
    "plt.xticks(ey_pos, eobjects)\n",
    "plt.ylabel('Proficiency (% of Students)')\n",
    "plt.xlabel('Program Participants')\n",
    "plt.title('NYSED Proficiency')\n",
    "#plt.legend()\n",
    "\n",
    "plt.tight_layout()\n",
    "#plt.show()\n",
    "#plt.savefig('CombinedProficiency.png')"
   ]
  },
  {
   "cell_type": "markdown",
   "metadata": {},
   "source": [
    "## Combined Proficiency"
   ]
  },
  {
   "cell_type": "code",
   "execution_count": 3,
   "metadata": {},
   "outputs": [],
   "source": [
    "n_groups = 4\n",
    "\n",
    "prof_nonusp = (11, 16)\n",
    "\n",
    "prof_usp = (25, 32)\n",
    "\n",
    "fig, ax = plt.subplots()\n",
    "\n",
    "index = np.arange(n_groups)\n",
    "bar_width = 0.35\n",
    "\n",
    "prof_nusp_pos = [0, 1]\n",
    "prof_usp_pos = [0.4, 1.4]\n",
    "prof_labelpos = [0.2, 1.2]\n",
    "\n",
    "opacity = 1\n",
    "\n",
    "plot1 = ax.bar(prof_nusp_pos, prof_nonusp, bar_width,\n",
    "                alpha=opacity, color='#FF4C4C', zorder=2, \n",
    "                label='Non-USP')\n",
    "\n",
    "plot2 = ax.bar(prof_usp_pos, prof_usp, bar_width,\n",
    "                alpha=opacity, color='#4C4CFF', zorder=3,\n",
    "                label='USP')\n",
    "\n",
    "ax.set_xlabel('NYSED Test')\n",
    "ax.set_ylabel('Proficiency (% of Students)')\n",
    "#ax.set_title('NYSED Test Proficiency')\n",
    "ax.set_xticks(prof_labelpos)\n",
    "ax.set_xticklabels(('Math', 'ELA'), rotation=0)\n",
    "ax.legend()\n",
    "plt.grid(zorder=1)\n",
    "\n",
    "fig.tight_layout()\n",
    "#plt.show()\n",
    "plt.savefig('CombinedProficiency.png')"
   ]
  },
  {
   "cell_type": "markdown",
   "metadata": {},
   "source": [
    "## General Regents Pass Rate "
   ]
  },
  {
   "cell_type": "code",
   "execution_count": 4,
   "metadata": {},
   "outputs": [],
   "source": [
    "n_groups = 4\n",
    "\n",
    "gen_nonusp = (51, 18)\n",
    "\n",
    "gen_usp = (68, 33)\n",
    "\n",
    "fig, ax = plt.subplots()\n",
    "\n",
    "index = np.arange(n_groups)\n",
    "bar_width = 0.35\n",
    "\n",
    "gen_nusp_pos = [0, 1]\n",
    "gen_usp_pos = [0.4, 1.4]\n",
    "gen_labelpos = [0.2, 1.2]\n",
    "\n",
    "opacity = 1\n",
    "\n",
    "plot1 = ax.bar(gen_nusp_pos, gen_nonusp, bar_width,\n",
    "                alpha=opacity, color='#FF4C4C', zorder=2, \n",
    "                label='Non-USP')\n",
    "\n",
    "plot2 = ax.bar(gen_usp_pos, gen_usp, bar_width,\n",
    "                alpha=opacity, color='#4C4CFF', zorder=3,\n",
    "                label='USP')\n",
    "\n",
    "#ax.set_xlabel('NYSED Test')\n",
    "ax.set_ylabel('Pass Rate (% of Students)')\n",
    "#ax.set_title('NYSED Test Proficiency')\n",
    "ax.set_xticks(gen_labelpos)\n",
    "ax.set_xticklabels(('Passing', 'Passing with 80% or above grade'), rotation=0)\n",
    "ax.legend()\n",
    "plt.grid(zorder=1)\n",
    "\n",
    "fig.tight_layout()\n",
    "#plt.show()\n",
    "plt.savefig('GenRegentsPassRate.png')"
   ]
  },
  {
   "cell_type": "markdown",
   "metadata": {},
   "source": [
    "## Regents Pass Rate by Exam"
   ]
  },
  {
   "cell_type": "code",
   "execution_count": 192,
   "metadata": {},
   "outputs": [
    {
     "data": {
      "image/png": "[encoded data removed]",
      "text/plain": [
       "<matplotlib.figure.Figure at 0x239f0347d30>"
      ]
     },
     "metadata": {},
     "output_type": "display_data"
    }
   ],
   "source": [
    "exam_nonusp = (42, 40, 39, 80, 41, 44, 54, 42, 56)\n",
    "exam_usp = (52, 71, 44, 87, 54, 58, 73, 67, 64)\n",
    "\n",
    "fig, ax = plt.subplots()\n",
    "\n",
    "bar_width = 0.35\n",
    "\n",
    "exam_nusp_pos = [0, 2, 4, 6, 8, 10, 12, 14, 16]\n",
    "exam_usp_pos = [0.4, 2.4, 4.4, 6.4, 8.4, 10.4, 12.4, 14.4, 16.4]\n",
    "exam_labelpos = [0.2, 2.2, 4.2, 6.2, 8.2, 10.2, 12.2, 14.2, 16.2]\n",
    "\n",
    "opacity = 1\n",
    "\n",
    "plot1 = ax.bar(exam_nusp_pos, exam_nonusp, bar_width,\n",
    "                alpha=opacity, color='#FF4C4C', zorder=2, \n",
    "                label='Non-USP')\n",
    "\n",
    "plot2 = ax.bar(exam_usp_pos, exam_usp, bar_width,\n",
    "                alpha=opacity, color='#4C4CFF', zorder=3,\n",
    "                label='USP')\n",
    "\n",
    "#ax.set_xlabel('NYSED Test')\n",
    "ax.set_ylabel('Pass Rate (% of Students)')\n",
    "#ax.set_title('NYSED Test Proficiency')\n",
    "ax.set_xticks(exam_labelpos)\n",
    "ax.set_xticklabels(('Integrated Algebra', 'CC Algebra', 'Algebra 2 Trig', 'CC Algebra 2', 'Chemistry',\n",
    "                    'Earth Science', 'Geometry', 'CC Geometry', 'Physics'), rotation=90)\n",
    "ax.legend()\n",
    "plt.grid(zorder=1)\n",
    "\n",
    "fig.tight_layout()\n",
    "#plt.show()\n",
    "plt.savefig('RegentsPassRatebyExam.png')"
   ]
  },
  {
   "cell_type": "code",
   "execution_count": null,
   "metadata": {
    "collapsed": true
   },
   "outputs": [],
   "source": []
  }
 ],
 "metadata": {
  "kernelspec": {
   "display_name": "Python 3",
   "language": "python",
   "name": "python3"
  },
  "language_info": {
   "codemirror_mode": {
    "name": "ipython",
    "version": 3
   },
   "file_extension": ".py",
   "mimetype": "text/x-python",
   "name": "python",
   "nbconvert_exporter": "python",
   "pygments_lexer": "ipython3",
   "version": "3.6.1"
  }
 },
 "nbformat": 4,
 "nbformat_minor": 2
}
